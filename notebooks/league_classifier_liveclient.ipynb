{
 "cells": [
  {
   "cell_type": "code",
   "execution_count": null,
   "metadata": {
    "ExecuteTime": {
     "end_time": "2021-12-02T06:27:08.222925Z",
     "start_time": "2021-12-02T06:27:07.668373Z"
    }
   },
   "outputs": [],
   "source": [
    "import numpy as np # linear algebra\n",
    "import pandas as pd # data processing, CSV file I/O (e.g. pd.read_csv)\n",
    "import json\n",
    "import cx_Oracle\n",
    "import os\n",
    "import pandas as pd\n",
    "\n",
    "\n",
    "os.environ['TNS_ADMIN'] = '/home/opc/adj_esportsdb'"
   ]
  },
  {
   "cell_type": "code",
   "execution_count": null,
   "metadata": {},
   "outputs": [],
   "source": [
    "import os\n",
    "\n",
    "os.environ['PATH']='/home/ubuntu/miniconda3/bin:$PATH'"
   ]
  },
  {
   "cell_type": "code",
   "execution_count": null,
   "metadata": {
    "ExecuteTime": {
     "end_time": "2021-12-02T06:27:26.871909Z",
     "start_time": "2021-12-02T06:27:08.224431Z"
    }
   },
   "outputs": [],
   "source": [
    "!pip install simplejson\n",
    "!pip install dataprep\n",
    "!pip install dask\n",
    "!pip install pandas_profiling\n",
    "## install packages\n",
    "!pip install -q scikit-learn\n",
    "!pip install -U setuptools wheel\n",
    "!pip install -U \"mxnet<2.0.0\"\n",
    "!pip install autogluon"
   ]
  },
  {
   "cell_type": "code",
   "execution_count": null,
   "metadata": {
    "ExecuteTime": {
     "end_time": "2021-12-02T06:27:26.925982Z",
     "start_time": "2021-12-02T06:27:26.874624Z"
    }
   },
   "outputs": [],
   "source": [
    "import cx_Oracle\n",
    "import yaml\n",
    "import os\n",
    "from pathlib import Path\n",
    "home = str(Path.home())\n",
    "\n",
    "def process_yaml():\n",
    "\twith open(\"../config.yaml\") as file:\n",
    "\t\treturn yaml.safe_load(file)\n",
    "\n",
    "\n",
    "class OracleJSONDatabaseConnection:\n",
    "    def __init__(self, data=process_yaml()):\n",
    "        # wallet location (default is HOME/wallets/wallet_X)\n",
    "        os.environ['TNS_ADMIN'] = '{}/{}'.format(home, process_yaml()['WALLET_DIR'])\n",
    "        print(os.environ['TNS_ADMIN'])\n",
    "        self.pool = cx_Oracle.SessionPool(data['db']['username'], data['db']['password'], data['db']['dsn'],\n",
    "            min=1, max=4, increment=1, threaded=True,\n",
    "            getmode=cx_Oracle.SPOOL_ATTRVAL_WAIT\n",
    "        )\n",
    "        print('Connection successful.')\n",
    "\n",
    "\n",
    "\n",
    "    def close_pool(self):\n",
    "        self.pool.close()\n",
    "        print('Connection pool closed.')\n",
    "\n",
    "\n",
    "\n",
    "    def insert(self, collection_name, json_object_to_insert):\n",
    "        connection = self.pool.acquire()\n",
    "        connection.autocommit = True\n",
    "        soda = connection.getSodaDatabase()\n",
    "        x_collection = soda.createCollection(collection_name)\n",
    "\n",
    "        try:\n",
    "            x_collection.insertOne(json_object_to_insert)\n",
    "            print('[DBG] INSERT {} OK'.format(json_object_to_insert))\n",
    "        except cx_Oracle.IntegrityError:\n",
    "            print('[DBG] INSERT {} ERR'.format(json_object_to_insert))\n",
    "            return 0\n",
    "        self.pool.release(connection)\n",
    "        return 1\n",
    "\n",
    "\n",
    "\n",
    "    def delete(self, collection_name, on_column, on_value):\n",
    "        connection = self.pool.acquire()\n",
    "        soda = connection.getSodaDatabase()\n",
    "        x_collection = soda.createCollection(collection_name)\n",
    "        qbe = {on_column: on_value}\n",
    "        x_collection.find().filter(qbe).remove()\n",
    "        self.pool.release(connection)\n",
    "\n",
    "\n",
    "\n",
    "    def get_connection(self):\n",
    "        return self.pool.acquire() \n",
    "\n",
    "\n",
    "\n",
    "    def close_connection(self, conn_object):\n",
    "        self.pool.release(conn_object)\n",
    "\n",
    "\n",
    "\n",
    "    def get_collection_names(self):\n",
    "        connection = self.pool.acquire()\n",
    "        returning_object = connection.getSodaDatabase().getCollectionNames(startName=None, limit=0)\n",
    "        self.pool.release(connection)\n",
    "        return returning_object\n",
    "\n",
    "\n",
    "\n",
    "    def open_collection(self, collection_name):\n",
    "        connection = self.pool.acquire()\n",
    "        returning_object = self.pool.acquire().getSodaDatabase().openCollection(collection_name)\n",
    "        self.pool.release(connection)\n",
    "        return returning_object\n",
    "\n",
    "\n",
    "\n",
    "def test_class():\n",
    "    object = OracleJSONDatabaseConnection()\n",
    "    print(object.pool)\n",
    "    object.close_pool()"
   ]
  },
  {
   "cell_type": "code",
   "execution_count": null,
   "metadata": {
    "ExecuteTime": {
     "end_time": "2021-12-02T06:27:37.040915Z",
     "start_time": "2021-12-02T06:27:26.931623Z"
    }
   },
   "outputs": [],
   "source": [
    "db = OracleJSONDatabaseConnection()\n",
    "print(db.get_collection_names())"
   ]
  },
  {
   "cell_type": "code",
   "execution_count": null,
   "metadata": {},
   "outputs": [],
   "source": [
    "# monkeypatch using faster simplejson module\n",
    "import simplejson\n",
    "pd.io.json._json.loads = lambda s, *a, **kw: simplejson.loads(s)"
   ]
  },
  {
   "cell_type": "code",
   "execution_count": null,
   "metadata": {
    "ExecuteTime": {
     "end_time": "2021-12-02T06:27:49.061009Z",
     "start_time": "2021-12-02T06:27:37.042207Z"
    }
   },
   "outputs": [],
   "source": [
    "data = db.open_collection('predictor_liveclient')\n",
    "all_data = list()\n",
    "i = 0\n",
    "for doc in data.find().getCursor():\n",
    "    content = doc.getContent()\n",
    "    all_data.append(content)\n",
    "    i+= 1\n",
    "    if i > 500000:\n",
    "        break\n",
    "\n",
    "print('Data length: {}'.format(len(all_data)))"
   ]
  },
  {
   "cell_type": "code",
   "execution_count": null,
   "metadata": {
    "ExecuteTime": {
     "end_time": "2021-12-02T06:27:55.352548Z",
     "start_time": "2021-12-02T06:27:49.063059Z"
    }
   },
   "outputs": [],
   "source": [
    "df = pd.read_json(json.dumps(all_data), orient='records')\n",
    "\n",
    "df.head(5)"
   ]
  },
  {
   "cell_type": "code",
   "execution_count": null,
   "metadata": {},
   "outputs": [],
   "source": [
    "df = df.fillna(0)"
   ]
  },
  {
   "cell_type": "code",
   "execution_count": null,
   "metadata": {
    "ExecuteTime": {
     "end_time": "2021-12-02T06:27:55.516270Z",
     "start_time": "2021-12-02T06:27:55.354199Z"
    }
   },
   "outputs": [],
   "source": [
    "df.describe()"
   ]
  },
  {
   "cell_type": "code",
   "execution_count": null,
   "metadata": {
    "ExecuteTime": {
     "end_time": "2021-12-02T06:27:58.629448Z",
     "start_time": "2021-12-02T06:27:55.518022Z"
    }
   },
   "outputs": [],
   "source": [
    "from pandas_profiling import ProfileReport"
   ]
  },
  {
   "cell_type": "code",
   "execution_count": null,
   "metadata": {
    "ExecuteTime": {
     "end_time": "2021-12-02T06:29:44.757906Z",
     "start_time": "2021-12-02T06:27:58.631099Z"
    }
   },
   "outputs": [],
   "source": [
    "#report = ProfileReport(df)\n",
    "#report #uncomment to display all."
   ]
  },
  {
   "cell_type": "code",
   "execution_count": null,
   "metadata": {
    "ExecuteTime": {
     "end_time": "2021-12-02T06:29:46.055749Z",
     "start_time": "2021-12-02T06:29:44.759876Z"
    }
   },
   "outputs": [],
   "source": [
    "from autogluon.tabular import TabularPredictor, TabularDataset"
   ]
  },
  {
   "cell_type": "code",
   "execution_count": null,
   "metadata": {
    "ExecuteTime": {
     "end_time": "2021-12-02T06:36:36.194278Z",
     "start_time": "2021-12-02T06:36:36.096513Z"
    }
   },
   "outputs": [],
   "source": [
    "df = TabularDataset(df)\n",
    "\n",
    "# drop columns we don't want (constant values + identifier)\n",
    "df = df.drop(columns=['bonusArmorPenetrationPercent', 'bonusMagicPenetrationPercent',\n",
    "    'identifier', 'cooldownReduction', 'armorPenetrationFlat'])\n",
    "\n",
    "train = df.sample(frac=0.8,random_state=200) #random state is a seed value\n",
    "test = df.drop(train.index)\n",
    "\n",
    "train.head(5)"
   ]
  },
  {
   "cell_type": "code",
   "execution_count": null,
   "metadata": {},
   "outputs": [],
   "source": [
    "df.describe()"
   ]
  },
  {
   "cell_type": "code",
   "execution_count": null,
   "metadata": {
    "ExecuteTime": {
     "end_time": "2021-12-02T06:36:39.063380Z",
     "start_time": "2021-12-02T06:36:39.060228Z"
    }
   },
   "outputs": [],
   "source": [
    "label = 'winner'"
   ]
  },
  {
   "cell_type": "code",
   "execution_count": null,
   "metadata": {
    "ExecuteTime": {
     "end_time": "2021-12-02T06:58:24.207471Z",
     "start_time": "2021-12-02T06:36:52.653425Z"
    }
   },
   "outputs": [],
   "source": [
    "save_path = './autogluon_trained_models_liveclient_classifier'  # specifies folder to store trained models\n",
    "predictor = TabularPredictor(label=label, path=save_path).fit(train)"
   ]
  },
  {
   "cell_type": "code",
   "execution_count": null,
   "metadata": {
    "ExecuteTime": {
     "end_time": "2021-12-02T06:58:24.226533Z",
     "start_time": "2021-12-02T06:58:24.210920Z"
    }
   },
   "outputs": [],
   "source": [
    "y_test = test[label]  # values to predict\n",
    "test_data_nolabel = test.drop(columns=[label])  # delete label column to prove we're not cheating, also drop identifier column\n",
    "test_data_nolabel.head(5)"
   ]
  },
  {
   "cell_type": "code",
   "execution_count": null,
   "metadata": {
    "ExecuteTime": {
     "end_time": "2021-12-02T06:59:18.437876Z",
     "start_time": "2021-12-02T06:58:24.229814Z"
    }
   },
   "outputs": [],
   "source": [
    "predictor = TabularPredictor.load(save_path)\n",
    "\n",
    "y_pred = predictor.predict(test_data_nolabel)\n",
    "print(\"Predictions:  \\n\", y_pred)\n",
    "#perf = predictor.evaluate_predictions(y_true=y_test, y_pred=y_pred, auxiliary_metrics=True)\n"
   ]
  },
  {
   "cell_type": "code",
   "execution_count": null,
   "metadata": {
    "ExecuteTime": {
     "end_time": "2021-12-02T07:13:32.963745Z",
     "start_time": "2021-12-02T06:59:18.440497Z"
    }
   },
   "outputs": [],
   "source": [
    "predictor.leaderboard(test, silent=False)"
   ]
  },
  {
   "cell_type": "code",
   "execution_count": null,
   "metadata": {
    "ExecuteTime": {
     "end_time": "2021-12-02T07:16:02.649363Z",
     "start_time": "2021-12-02T07:13:32.965482Z"
    }
   },
   "outputs": [],
   "source": [
    "predictor.feature_importance(test)"
   ]
  },
  {
   "cell_type": "code",
   "execution_count": null,
   "metadata": {},
   "outputs": [],
   "source": [
    "data = [91, 35, 0, 1080321, 2204, 390, 225, 0, 10, 0, 672, 0, 220, 0, 94, 0, 1047, 33]\n",
    "\n",
    "test_d = pd.DataFrame([data], columns=['magicResist', 'healthRegenRate', 'spellVamp', 'timestamp', 'maxHealth', 'moveSpeed', 'attackDamage', 'armorPenetrationPercent', 'lifesteal', 'abilityPower', 'resourceValue', 'magicPenetrationFlat', 'attackSpeed', 'currentHealth', 'armor', 'magicPenetrationPercent', 'resourceMax', 'resourceRegenRate'])"
   ]
  },
  {
   "cell_type": "code",
   "execution_count": null,
   "metadata": {},
   "outputs": [],
   "source": [
    "predictor.predict(test_d)"
   ]
  },
  {
   "cell_type": "code",
   "execution_count": null,
   "metadata": {},
   "outputs": [],
   "source": [
    "pred_probs = predictor.predict_proba(test_d)"
   ]
  },
  {
   "cell_type": "code",
   "execution_count": null,
   "metadata": {},
   "outputs": [],
   "source": [
    "print(pred_probs)"
   ]
  }
 ],
 "metadata": {
  "kernelspec": {
   "display_name": "lol-optimizer",
   "language": "python",
   "name": "python3"
  },
  "language_info": {
   "codemirror_mode": {
    "name": "ipython",
    "version": 3
   },
   "file_extension": ".py",
   "mimetype": "text/x-python",
   "name": "python",
   "nbconvert_exporter": "python",
   "pygments_lexer": "ipython3",
   "version": "3.9.18"
  }
 },
 "nbformat": 4,
 "nbformat_minor": 4
}
